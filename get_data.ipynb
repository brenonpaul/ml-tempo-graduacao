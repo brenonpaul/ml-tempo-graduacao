{
 "cells": [
  {
   "cell_type": "markdown",
   "id": "96601dcc-5f08-488f-89ae-ce4d508da0e7",
   "metadata": {},
   "source": [
    "# Uso de Técnicas de Aprendizado de Máquina para a Predição do Tempo de Graduação dos Discentes de Engenharia da Computação na Região Sul do Brasil"
   ]
  },
  {
   "cell_type": "markdown",
   "id": "fecf190c-410c-4171-b942-bde8f35ffc93",
   "metadata": {},
   "source": [
    "## Importação das bibliotecas"
   ]
  },
  {
   "cell_type": "code",
   "execution_count": 3,
   "id": "8cced1ac-12fd-4379-a20a-81853c6ef01d",
   "metadata": {},
   "outputs": [],
   "source": [
    "import pandas as pd\n",
    "import glob\n",
    "import os"
   ]
  },
  {
   "cell_type": "markdown",
   "id": "00d92aa0-09fc-442e-b1ae-8e787267868c",
   "metadata": {},
   "source": [
    "## Importação da base de dados"
   ]
  },
  {
   "cell_type": "code",
   "execution_count": 5,
   "id": "ed68f064-887f-49dd-bdc7-ec477394506c",
   "metadata": {},
   "outputs": [
    {
     "name": "stderr",
     "output_type": "stream",
     "text": [
      "C:\\Users\\Brenon\\AppData\\Local\\Temp\\ipykernel_4224\\537019743.py:10: DtypeWarning: Columns (12,14,15) have mixed types. Specify dtype option on import or set low_memory=False.\n",
      "  df = pd.read_csv(arquivo, delimiter=\";\", encoding=\"latin1\")\n"
     ]
    },
    {
     "name": "stdout",
     "output_type": "stream",
     "text": [
      "      NU_ANO  CO_CURSO  CO_IES  CO_CATEGAD  CO_ORGACAD  CO_GRUPO  \\\n",
      "4360    2023       872      10           8       10028      6411   \n",
      "4361    2023       872      10           8       10028      6411   \n",
      "4362    2023       872      10           8       10028      6411   \n",
      "4363    2023       872      10           8       10028      6411   \n",
      "4364    2023       872      10           8       10028      6411   \n",
      "\n",
      "      CO_MODALIDADE  CO_MUNIC_CURSO  CO_UF_CURSO  CO_REGIAO_CURSO  ... QE_I64  \\\n",
      "4360              1         4106902           41                4  ...    NaN   \n",
      "4361              1         4106902           41                4  ...    NaN   \n",
      "4362              1         4106902           41                4  ...    NaN   \n",
      "4363              1         4106902           41                4  ...    NaN   \n",
      "4364              1         4106902           41                4  ...    NaN   \n",
      "\n",
      "     QE_I65 QE_I66 QE_I67 QE_I68 TP_SEXO NU_IDADE QE_I01 QE_I02 QE_I03  \n",
      "4360    NaN    NaN    NaN    NaN       F       21    NaN    NaN    NaN  \n",
      "4361    NaN    NaN    NaN    NaN       F       21    NaN    NaN    NaN  \n",
      "4362    NaN    NaN    NaN    NaN       F       21    NaN    NaN    NaN  \n",
      "4363    NaN    NaN    NaN    NaN       F       21    NaN    NaN    NaN  \n",
      "4364    NaN    NaN    NaN    NaN       F       21    NaN    NaN    NaN  \n",
      "\n",
      "[5 rows x 125 columns]\n"
     ]
    }
   ],
   "source": [
    "caminho_diretorio = r\"Microdados_Enade_2023\\DADOS\"\n",
    "\n",
    "# Buscar todos os arquivos .csv com padrão especificado\n",
    "arquivos = glob.glob(os.path.join(caminho_diretorio, \"microdados2023_arq*.csv\"))\n",
    "\n",
    "dfs = []\n",
    "colunas_existentes = set()\n",
    "\n",
    "for arquivo in arquivos:\n",
    "    df = pd.read_csv(arquivo, delimiter=\";\", encoding=\"latin1\")\n",
    "    \n",
    "    # Filtra apenas colunas ainda não adicionadas\n",
    "    colunas_novas = [col for col in df.columns if col not in colunas_existentes]\n",
    "    \n",
    "    if colunas_novas:\n",
    "        dfs.append(df[colunas_novas])\n",
    "        colunas_existentes.update(colunas_novas)\n",
    "\n",
    "# Concatena os dados horizontalmente (colunas diferentes, mesmas linhas)\n",
    "df_final = pd.concat(dfs, axis=1)\n",
    "\n",
    "# Filtrar por curso e região\n",
    "df_final = df_final[\n",
    "    (df_final[\"CO_GRUPO\"] == 6411) & \n",
    "    (df_final[\"CO_REGIAO_CURSO\"] == 4)\n",
    "]\n",
    "\n",
    "# Exibe amostra\n",
    "print(df_final.head())\n",
    "\n",
    "# Salva resultado\n",
    "df_final.to_csv(os.path.join(caminho_diretorio, \"base_final.csv\"), index=False, sep=\";\")"
   ]
  }
 ],
 "metadata": {
  "kernelspec": {
   "display_name": "Python [conda env:base] *",
   "language": "python",
   "name": "conda-base-py"
  },
  "language_info": {
   "codemirror_mode": {
    "name": "ipython",
    "version": 3
   },
   "file_extension": ".py",
   "mimetype": "text/x-python",
   "name": "python",
   "nbconvert_exporter": "python",
   "pygments_lexer": "ipython3",
   "version": "3.12.7"
  }
 },
 "nbformat": 4,
 "nbformat_minor": 5
}
